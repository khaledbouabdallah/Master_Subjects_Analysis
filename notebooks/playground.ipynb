{
 "cells": [
  {
   "cell_type": "code",
   "execution_count": 1,
   "outputs": [],
   "source": [
    "import pandas as pd"
   ],
   "metadata": {
    "collapsed": false,
    "pycharm": {
     "name": "#%%\n"
    }
   }
  },
  {
   "cell_type": "code",
   "execution_count": 2,
   "outputs": [],
   "source": [
    "df = pd.read_csv('../dataset/subjects_master_2022_modefied.csv')"
   ],
   "metadata": {
    "collapsed": false,
    "pycharm": {
     "name": "#%%\n"
    }
   }
  },
  {
   "cell_type": "code",
   "execution_count": 4,
   "outputs": [
    {
     "name": "stdout",
     "output_type": "stream",
     "text": [
      "<class 'pandas.core.frame.DataFrame'>\n",
      "RangeIndex: 147 entries, 0 to 146\n",
      "Data columns (total 13 columns):\n",
      " #   Column      Non-Null Count  Dtype \n",
      "---  ------      --------------  ----- \n",
      " 0   Id          147 non-null    int64 \n",
      " 1   Title       147 non-null    object\n",
      " 2   Author      147 non-null    object\n",
      " 3   Grade       147 non-null    object\n",
      " 4   Taken       147 non-null    bool  \n",
      " 5   Priority 1  147 non-null    object\n",
      " 6   Priority 2  147 non-null    object\n",
      " 7   Priority 3  147 non-null    object\n",
      " 8   Priority 4  147 non-null    object\n",
      " 9   Priority 5  143 non-null    object\n",
      " 10  Date        147 non-null    object\n",
      " 11  Time        147 non-null    object\n",
      " 12  Subject     2 non-null      object\n",
      "dtypes: bool(1), int64(1), object(11)\n",
      "memory usage: 14.0+ KB\n"
     ]
    }
   ],
   "source": [
    "df.info()"
   ],
   "metadata": {
    "collapsed": false,
    "pycharm": {
     "name": "#%%\n"
    }
   }
  },
  {
   "cell_type": "code",
   "execution_count": 3,
   "outputs": [],
   "source": [],
   "metadata": {
    "collapsed": false,
    "pycharm": {
     "name": "#%%\n"
    }
   }
  },
  {
   "cell_type": "markdown",
   "source": [
    "## Question I want to know their answer:\n",
    "\n",
    "1. numer of subjects\n",
    "2. percentage of subjects affected/unaffected\n",
    "3. number of teachers who proposed a subject\n",
    "4. rank teacher per number of subjects\n",
    "5. rank subjects (close ones) per teacher\n",
    "6. rank speciality's per number of subjects/teachers\n",
    "7. sum of priority's for every speciality"
   ],
   "metadata": {
    "collapsed": false,
    "pycharm": {
     "name": "#%% md\n"
    }
   }
  }
 ],
 "metadata": {
  "kernelspec": {
   "display_name": "Python 3",
   "language": "python",
   "name": "python3"
  },
  "language_info": {
   "codemirror_mode": {
    "name": "ipython",
    "version": 2
   },
   "file_extension": ".py",
   "mimetype": "text/x-python",
   "name": "python",
   "nbconvert_exporter": "python",
   "pygments_lexer": "ipython2",
   "version": "2.7.6"
  }
 },
 "nbformat": 4,
 "nbformat_minor": 0
}