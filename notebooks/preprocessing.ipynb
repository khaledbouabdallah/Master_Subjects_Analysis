{
 "cells": [
  {
   "cell_type": "code",
   "execution_count": 12,
   "outputs": [],
   "source": [
    "import pandas as pd\n",
    "\n",
    "FILE_PATH = '../dataset/subjects_master_2022_modefied.csv'"
   ],
   "metadata": {
    "collapsed": false,
    "pycharm": {
     "name": "#%%\n"
    }
   }
  },
  {
   "cell_type": "code",
   "execution_count": 13,
   "metadata": {
    "collapsed": true
   },
   "outputs": [],
   "source": [
    "df = pd.read_csv(FILE_PATH)"
   ]
  },
  {
   "cell_type": "code",
   "execution_count": 14,
   "outputs": [
    {
     "name": "stdout",
     "output_type": "stream",
     "text": [
      "<class 'pandas.core.frame.DataFrame'>\n",
      "RangeIndex: 147 entries, 0 to 146\n",
      "Data columns (total 13 columns):\n",
      " #   Column      Non-Null Count  Dtype \n",
      "---  ------      --------------  ----- \n",
      " 0   Id          147 non-null    int64 \n",
      " 1   Title       147 non-null    object\n",
      " 2   Author      147 non-null    object\n",
      " 3   Grade       147 non-null    object\n",
      " 4   Taken       147 non-null    bool  \n",
      " 5   Priority 1  147 non-null    object\n",
      " 6   Priority 2  147 non-null    object\n",
      " 7   Priority 3  147 non-null    object\n",
      " 8   Priority 4  147 non-null    object\n",
      " 9   Priority 5  143 non-null    object\n",
      " 10  Date        147 non-null    object\n",
      " 11  Time        147 non-null    object\n",
      " 12  Subject     2 non-null      object\n",
      "dtypes: bool(1), int64(1), object(11)\n",
      "memory usage: 14.0+ KB\n"
     ]
    }
   ],
   "source": [
    "df.info()"
   ],
   "metadata": {
    "collapsed": false,
    "pycharm": {
     "name": "#%%\n"
    }
   }
  },
  {
   "cell_type": "code",
   "execution_count": 6,
   "outputs": [],
   "source": [
    "df.Date = pd.to_datetime(df.Date)\n",
    "df.Time = pd.to_datetime(df.Time)"
   ],
   "metadata": {
    "collapsed": false,
    "pycharm": {
     "name": "#%%\n"
    }
   }
  },
  {
   "cell_type": "code",
   "execution_count": 9,
   "outputs": [
    {
     "name": "stdout",
     "output_type": "stream",
     "text": [
      "<class 'pandas.core.frame.DataFrame'>\n",
      "RangeIndex: 147 entries, 0 to 146\n",
      "Data columns (total 12 columns):\n",
      " #   Column      Non-Null Count  Dtype         \n",
      "---  ------      --------------  -----         \n",
      " 0   Id          147 non-null    int64         \n",
      " 1   Title       147 non-null    object        \n",
      " 2   Author      147 non-null    object        \n",
      " 3   Grade       147 non-null    object        \n",
      " 4   Taken       147 non-null    bool          \n",
      " 5   Priority 1  147 non-null    object        \n",
      " 6   Priority 2  147 non-null    object        \n",
      " 7   Priority 3  147 non-null    object        \n",
      " 8   Priority 4  147 non-null    object        \n",
      " 9   Priority 5  143 non-null    object        \n",
      " 10  Date        147 non-null    datetime64[ns]\n",
      " 11  Time        147 non-null    datetime64[ns]\n",
      "dtypes: bool(1), datetime64[ns](2), int64(1), object(8)\n",
      "memory usage: 12.9+ KB\n"
     ]
    }
   ],
   "source": [
    "df.info()"
   ],
   "metadata": {
    "collapsed": false,
    "pycharm": {
     "name": "#%%\n"
    }
   }
  },
  {
   "cell_type": "code",
   "execution_count": null,
   "outputs": [],
   "source": [],
   "metadata": {
    "collapsed": false,
    "pycharm": {
     "name": "#%%\n"
    }
   }
  }
 ],
 "metadata": {
  "kernelspec": {
   "display_name": "Python 3",
   "language": "python",
   "name": "python3"
  },
  "language_info": {
   "codemirror_mode": {
    "name": "ipython",
    "version": 2
   },
   "file_extension": ".py",
   "mimetype": "text/x-python",
   "name": "python",
   "nbconvert_exporter": "python",
   "pygments_lexer": "ipython2",
   "version": "2.7.6"
  }
 },
 "nbformat": 4,
 "nbformat_minor": 0
}