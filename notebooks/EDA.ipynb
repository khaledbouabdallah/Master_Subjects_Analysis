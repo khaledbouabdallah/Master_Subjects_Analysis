{
 "cells": [
  {
   "cell_type": "code",
   "execution_count": 1,
   "metadata": {
    "collapsed": true
   },
   "outputs": [],
   "source": [
    "import pandas as pd\n",
    "import seaborn\n",
    "import matplotlib.pyplot as plt"
   ]
  },
  {
   "cell_type": "code",
   "execution_count": 3,
   "outputs": [],
   "source": [
    "df = pd.read_csv('../dataset/sujets_master_2022.csv')"
   ],
   "metadata": {
    "collapsed": false,
    "pycharm": {
     "name": "#%%\n"
    }
   }
  },
  {
   "cell_type": "code",
   "execution_count": 4,
   "outputs": [
    {
     "data": {
      "text/plain": "     Id                                              Title             Author  \\\n0  1499               IoT for remote monitoring in Algeria  KHABABA  Abdallah   \n1  1501  Development, Usability, and Efficiancy of a Se...  KHABABA  Abdallah   \n2  1502  Conception et Réalisation d’un système de réal...  KHABABA  Abdallah   \n3  1504  An IoT Based Mobile Augmented Reality Applicat...  KHABABA  Abdallah   \n4  1363  Architecture d’un Système Nano Macro de Réseau...  ALIOUAT  Makhlouf   \n\n        Grade  Taken Priority 1 Priority 2 Priority 3 Priority 4 Priority 5  \\\n0  Professeur   True        F3I       IDTW       IFIA         GL        RSD   \n1  Professeur   True         GL       IFIA        F3I       IDTW        RSD   \n2  Professeur   True        F3I        RSD       IDTW         GL       IFIA   \n3  Professeur   True        F3I       IDTW         GL       IFIA        RSD   \n4  Professeur   True        RSD       IDTW       IFIA         GL        F3I   \n\n         Date      Time  \n0  2022-01-04  09:49:23  \n1  2022-01-02  19:21:14  \n2  2022-01-16  12:13:05  \n3  2022-01-04  09:50:25  \n4  2022-01-02  19:41:53  ",
      "text/html": "<div>\n<style scoped>\n    .dataframe tbody tr th:only-of-type {\n        vertical-align: middle;\n    }\n\n    .dataframe tbody tr th {\n        vertical-align: top;\n    }\n\n    .dataframe thead th {\n        text-align: right;\n    }\n</style>\n<table border=\"1\" class=\"dataframe\">\n  <thead>\n    <tr style=\"text-align: right;\">\n      <th></th>\n      <th>Id</th>\n      <th>Title</th>\n      <th>Author</th>\n      <th>Grade</th>\n      <th>Taken</th>\n      <th>Priority 1</th>\n      <th>Priority 2</th>\n      <th>Priority 3</th>\n      <th>Priority 4</th>\n      <th>Priority 5</th>\n      <th>Date</th>\n      <th>Time</th>\n    </tr>\n  </thead>\n  <tbody>\n    <tr>\n      <th>0</th>\n      <td>1499</td>\n      <td>IoT for remote monitoring in Algeria</td>\n      <td>KHABABA  Abdallah</td>\n      <td>Professeur</td>\n      <td>True</td>\n      <td>F3I</td>\n      <td>IDTW</td>\n      <td>IFIA</td>\n      <td>GL</td>\n      <td>RSD</td>\n      <td>2022-01-04</td>\n      <td>09:49:23</td>\n    </tr>\n    <tr>\n      <th>1</th>\n      <td>1501</td>\n      <td>Development, Usability, and Efficiancy of a Se...</td>\n      <td>KHABABA  Abdallah</td>\n      <td>Professeur</td>\n      <td>True</td>\n      <td>GL</td>\n      <td>IFIA</td>\n      <td>F3I</td>\n      <td>IDTW</td>\n      <td>RSD</td>\n      <td>2022-01-02</td>\n      <td>19:21:14</td>\n    </tr>\n    <tr>\n      <th>2</th>\n      <td>1502</td>\n      <td>Conception et Réalisation d’un système de réal...</td>\n      <td>KHABABA  Abdallah</td>\n      <td>Professeur</td>\n      <td>True</td>\n      <td>F3I</td>\n      <td>RSD</td>\n      <td>IDTW</td>\n      <td>GL</td>\n      <td>IFIA</td>\n      <td>2022-01-16</td>\n      <td>12:13:05</td>\n    </tr>\n    <tr>\n      <th>3</th>\n      <td>1504</td>\n      <td>An IoT Based Mobile Augmented Reality Applicat...</td>\n      <td>KHABABA  Abdallah</td>\n      <td>Professeur</td>\n      <td>True</td>\n      <td>F3I</td>\n      <td>IDTW</td>\n      <td>GL</td>\n      <td>IFIA</td>\n      <td>RSD</td>\n      <td>2022-01-04</td>\n      <td>09:50:25</td>\n    </tr>\n    <tr>\n      <th>4</th>\n      <td>1363</td>\n      <td>Architecture d’un Système Nano Macro de Réseau...</td>\n      <td>ALIOUAT  Makhlouf</td>\n      <td>Professeur</td>\n      <td>True</td>\n      <td>RSD</td>\n      <td>IDTW</td>\n      <td>IFIA</td>\n      <td>GL</td>\n      <td>F3I</td>\n      <td>2022-01-02</td>\n      <td>19:41:53</td>\n    </tr>\n  </tbody>\n</table>\n</div>"
     },
     "execution_count": 4,
     "metadata": {},
     "output_type": "execute_result"
    }
   ],
   "source": [
    "df.head()"
   ],
   "metadata": {
    "collapsed": false,
    "pycharm": {
     "name": "#%%\n"
    }
   }
  },
  {
   "cell_type": "markdown",
   "source": [
    "## Authors"
   ],
   "metadata": {
    "collapsed": false,
    "pycharm": {
     "name": "#%% md\n"
    }
   }
  },
  {
   "cell_type": "code",
   "execution_count": 6,
   "outputs": [
    {
     "data": {
      "text/plain": "array(['KHABABA  Abdallah', 'ALIOUAT  Makhlouf', 'KAMEL  Nadjet',\n       'MOUSSAOUI  Abdelouahab', 'REFOUFI  Allaoua', 'SAIDI  Mohamed',\n       'ALIOUAT née ZOUAOUI  Zibouda', 'KHENTOUT  Chabane',\n       'DOUIDI  Lamri', 'BENAOUDA  Abdelhafid',\n       'KHENTOUT née HARBOUCHE  Khadidja',\n       'ZAIMEN née MEDIANI  Chahrazed', 'MECHTA  Djamila',\n       'LAOUADI  Mohamed Amin', 'BEGHRICHE  Abdesselem',\n       'AISSAOUA  Habib', 'BENAIDJA  Amira', 'MEKROUD  Noureddine',\n       'KHARCHI  Samia', 'HAMMOUCHE  Yassine', 'FENANIR  Samir',\n       'LAKHFIF  Abdelaziz', 'TOUMI  Lyazid', 'LALAMA  Zahia',\n       'DJAGHLOUL  Haroun', 'BANABIREZ née ZERGUINE  Nadia',\n       'DRIF  Ahlem', 'AMRANI  Lakhdar', 'BOUAMARI  Abdelkader',\n       'ZAZOUA née DJEMAME  Safia', 'DOUAR  Amel', 'GOUDJIL  Lakhdar',\n       'KHALFALLAH née HADI  Fairouz', 'GUELLATI  Nabil',\n       'SEMCHEDINE  Moussa', 'BRAHIM-SALEM  Fatiha', 'KARA  Abdelaziz',\n       'MANSOURI  Houceme', 'NASRI  Khaled', 'TEBBANI  Fatiha',\n       'KANOUNI  Lakhdar', 'LAMRAOUI  Amar', 'LOUAIL  Lemia',\n       'BESSOU  Sadik', 'KARA Mohamed  Chafia', 'GHERBI  Chirihane',\n       'KACHA  Lynda', 'Harrag  Fouzi', 'Cherbal  Sara', 'BALBAL  Samir',\n       'Frihia  hamza', 'Ferradji  mohamed', 'BERRIMI  Fella',\n       'BOURAS  IKRAM', 'Kout  Akram', 'Kosrane  Mohamed',\n       'Bouaita  Bilal', 'SEGHIR  Fateh', 'CHERGUI  Nabila',\n       'Haddadi  Mohamed', 'Benmessahel  Bilel', 'Annane  Boubakeur',\n       'Zier  Abdelhak', 'Harbi  Yasmine', 'BERRHAIL  Fouaz',\n       'AYACHE  Farid'], dtype=object)"
     },
     "execution_count": 6,
     "metadata": {},
     "output_type": "execute_result"
    }
   ],
   "source": [
    "df['Author'].unique()"
   ],
   "metadata": {
    "collapsed": false,
    "pycharm": {
     "name": "#%%\n"
    }
   }
  },
  {
   "cell_type": "code",
   "execution_count": 20,
   "outputs": [
    {
     "data": {
      "text/plain": "MOUSSAOUI  Abdelouahab    11\nKHABABA  Abdallah          4\nMECHTA  Djamila            4\nTOUMI  Lyazid              4\nBALBAL  Samir              3\n                          ..\nKosrane  Mohamed           1\nFrihia  hamza              1\nLALAMA  Zahia              1\nKHENTOUT  Chabane          1\nAYACHE  Farid              1\nName: Author, Length: 66, dtype: int64"
     },
     "execution_count": 20,
     "metadata": {},
     "output_type": "execute_result"
    }
   ],
   "source": [
    "df['Author'].value_counts()"
   ],
   "metadata": {
    "collapsed": false,
    "pycharm": {
     "name": "#%%\n"
    }
   }
  },
  {
   "cell_type": "code",
   "execution_count": 10,
   "outputs": [
    {
     "data": {
      "text/plain": "Maitre de conferences classe B                                                                         41\nMaitre de conferences classe A                                                                         30\nMaitre assistant classe A                                                                              30\nProfesseur                                                                                             23\nMaitre assistant classe B                                                                               9\nMaitre de conferences classe B) --> Hors département: Faculté de technologie                            5\nMaitre de conferences classe B) --> Hors département: Université de Boumerdes, Departement économie     3\nMaitre de conferences classe B) --> Hors département: Faculte de technologie                            3\nMaitre de conferences classe B) --> Hors département: Faculté de Biologie                               2\nMaitre assistant classe A) --> Hors département: Faculté d'économie                                     1\nName: Grade, dtype: int64"
     },
     "execution_count": 10,
     "metadata": {},
     "output_type": "execute_result"
    }
   ],
   "source": [
    "df['Grade'].value_counts()"
   ],
   "metadata": {
    "collapsed": false,
    "pycharm": {
     "name": "#%%\n"
    }
   }
  },
  {
   "cell_type": "code",
   "execution_count": null,
   "outputs": [],
   "source": [],
   "metadata": {
    "collapsed": false,
    "pycharm": {
     "name": "#%%\n"
    }
   }
  },
  {
   "cell_type": "code",
   "execution_count": 12,
   "outputs": [
    {
     "data": {
      "text/plain": "True     137\nFalse     10\nName: Taken, dtype: int64"
     },
     "execution_count": 12,
     "metadata": {},
     "output_type": "execute_result"
    }
   ],
   "source": [
    "df['Taken'].value_counts()"
   ],
   "metadata": {
    "collapsed": false,
    "pycharm": {
     "name": "#%%\n"
    }
   }
  },
  {
   "cell_type": "code",
   "execution_count": 13,
   "outputs": [
    {
     "data": {
      "text/plain": "RSD     46\nIDTW    36\nIFIA    31\nF3I     26\nGL       8\nName: Priority 1, dtype: int64"
     },
     "execution_count": 13,
     "metadata": {},
     "output_type": "execute_result"
    }
   ],
   "source": [
    "df['Priority 1'].value_counts()"
   ],
   "metadata": {
    "collapsed": false,
    "pycharm": {
     "name": "#%%\n"
    }
   }
  },
  {
   "cell_type": "code",
   "execution_count": 14,
   "outputs": [
    {
     "data": {
      "text/plain": "IFIA    52\nIDTW    43\nF3I     30\nRSD     13\nGL       9\nName: Priority 2, dtype: int64"
     },
     "execution_count": 14,
     "metadata": {},
     "output_type": "execute_result"
    }
   ],
   "source": [
    "df['Priority 2'].value_counts()"
   ],
   "metadata": {
    "collapsed": false,
    "pycharm": {
     "name": "#%%\n"
    }
   }
  },
  {
   "cell_type": "code",
   "execution_count": 15,
   "outputs": [
    {
     "data": {
      "text/plain": "IFIA    52\nIDTW    41\nF3I     25\nGL      17\nRSD     12\nName: Priority 3, dtype: int64"
     },
     "execution_count": 15,
     "metadata": {},
     "output_type": "execute_result"
    }
   ],
   "source": [
    "df['Priority 3'].value_counts()"
   ],
   "metadata": {
    "collapsed": false,
    "pycharm": {
     "name": "#%%\n"
    }
   }
  },
  {
   "cell_type": "code",
   "execution_count": 16,
   "outputs": [
    {
     "data": {
      "text/plain": "GL      60\nF3I     38\nRSD     22\nIDTW    19\nIFIA     8\nName: Priority 4, dtype: int64"
     },
     "execution_count": 16,
     "metadata": {},
     "output_type": "execute_result"
    }
   ],
   "source": [
    "df['Priority 4'].value_counts()"
   ],
   "metadata": {
    "collapsed": false,
    "pycharm": {
     "name": "#%%\n"
    }
   }
  },
  {
   "cell_type": "code",
   "execution_count": 17,
   "outputs": [
    {
     "data": {
      "text/plain": "RSD     53\nGL      51\nF3I     27\nIDTW     8\nIFIA     4\nName: Priority 5, dtype: int64"
     },
     "execution_count": 17,
     "metadata": {},
     "output_type": "execute_result"
    }
   ],
   "source": [
    "df['Priority 5'].value_counts()"
   ],
   "metadata": {
    "collapsed": false,
    "pycharm": {
     "name": "#%%\n"
    }
   }
  },
  {
   "cell_type": "code",
   "execution_count": 22,
   "outputs": [
    {
     "data": {
      "text/plain": "F3I     5\nIDTW    5\nGL      1\nName: Priority 1, dtype: int64"
     },
     "execution_count": 22,
     "metadata": {},
     "output_type": "execute_result"
    }
   ],
   "source": [
    "df[df['Author']=='MOUSSAOUI  Abdelouahab']['Priority 1'].value_counts()"
   ],
   "metadata": {
    "collapsed": false,
    "pycharm": {
     "name": "#%%\n"
    }
   }
  },
  {
   "cell_type": "code",
   "execution_count": 25,
   "outputs": [
    {
     "data": {
      "text/plain": "MOUSSAOUI  Abdelouahab           5\nKHABABA  Abdallah                3\nKHALFALLAH née HADI  Fairouz     3\nDJAGHLOUL  Haroun                2\nNASRI  Khaled                    2\nKARA Mohamed  Chafia             2\nBERRIMI  Fella                   2\nZAIMEN née MEDIANI  Chahrazed    1\nMEKROUD  Noureddine              1\nZAZOUA née DJEMAME  Safia        1\nSEMCHEDINE  Moussa               1\nHarrag  Fouzi                    1\nBouaita  Bilal                   1\nBenmessahel  Bilel               1\nName: Author, dtype: int64"
     },
     "execution_count": 25,
     "metadata": {},
     "output_type": "execute_result"
    }
   ],
   "source": [
    "df[df['Priority 1']=='F3I']['Author'].value_counts()"
   ],
   "metadata": {
    "collapsed": false,
    "pycharm": {
     "name": "#%%\n"
    }
   }
  },
  {
   "cell_type": "code",
   "execution_count": 29,
   "outputs": [
    {
     "name": "stderr",
     "output_type": "stream",
     "text": [
      "[nltk_data] Downloading package stopwords to\n",
      "[nltk_data]     C:\\Users\\khaled\\AppData\\Roaming\\nltk_data...\n",
      "[nltk_data]   Unzipping corpora\\stopwords.zip.\n"
     ]
    }
   ],
   "source": [
    "\n",
    "from nltk.corpus import stopwords\n",
    "import nltk\n",
    "nltk.download('stopwords')\n",
    "final_stopwords_list = stopwords.words('english') + stopwords.words('french')"
   ],
   "metadata": {
    "collapsed": false,
    "pycharm": {
     "name": "#%%\n"
    }
   }
  },
  {
   "cell_type": "code",
   "execution_count": 30,
   "outputs": [
    {
     "name": "stderr",
     "output_type": "stream",
     "text": [
      "C:\\Users\\khaled\\AppData\\Local\\Temp\\ipykernel_3084\\2948213284.py:1: FutureWarning: The default value of regex will change from True to False in a future version.\n",
      "  df[\"mytext_new\"] = df['Title'].str.lower().str.replace('[^\\w\\s]','')\n"
     ]
    },
    {
     "data": {
      "text/plain": "              Word  Frequency\n0              des         52\n1               de         47\n2              les         32\n3              for         28\n4         learning         23\n..             ...        ...\n607       messages          1\n608         safety          1\n609      broadcast          1\n610         method          1\n611  apprentissage          1\n\n[612 rows x 2 columns]",
      "text/html": "<div>\n<style scoped>\n    .dataframe tbody tr th:only-of-type {\n        vertical-align: middle;\n    }\n\n    .dataframe tbody tr th {\n        vertical-align: top;\n    }\n\n    .dataframe thead th {\n        text-align: right;\n    }\n</style>\n<table border=\"1\" class=\"dataframe\">\n  <thead>\n    <tr style=\"text-align: right;\">\n      <th></th>\n      <th>Word</th>\n      <th>Frequency</th>\n    </tr>\n  </thead>\n  <tbody>\n    <tr>\n      <th>0</th>\n      <td>des</td>\n      <td>52</td>\n    </tr>\n    <tr>\n      <th>1</th>\n      <td>de</td>\n      <td>47</td>\n    </tr>\n    <tr>\n      <th>2</th>\n      <td>les</td>\n      <td>32</td>\n    </tr>\n    <tr>\n      <th>3</th>\n      <td>for</td>\n      <td>28</td>\n    </tr>\n    <tr>\n      <th>4</th>\n      <td>learning</td>\n      <td>23</td>\n    </tr>\n    <tr>\n      <th>...</th>\n      <td>...</td>\n      <td>...</td>\n    </tr>\n    <tr>\n      <th>607</th>\n      <td>messages</td>\n      <td>1</td>\n    </tr>\n    <tr>\n      <th>608</th>\n      <td>safety</td>\n      <td>1</td>\n    </tr>\n    <tr>\n      <th>609</th>\n      <td>broadcast</td>\n      <td>1</td>\n    </tr>\n    <tr>\n      <th>610</th>\n      <td>method</td>\n      <td>1</td>\n    </tr>\n    <tr>\n      <th>611</th>\n      <td>apprentissage</td>\n      <td>1</td>\n    </tr>\n  </tbody>\n</table>\n<p>612 rows × 2 columns</p>\n</div>"
     },
     "execution_count": 30,
     "metadata": {},
     "output_type": "execute_result"
    }
   ],
   "source": [
    "df[\"mytext_new\"] = df['Title'].str.lower().str.replace('[^\\w\\s]','')\n",
    "\n",
    "\n",
    "new_df = df.mytext_new.str.split(expand=True).stack().value_counts().reset_index()\n",
    "\n",
    "new_df.columns = ['Word', 'Frequency']\n",
    "\n",
    "new_df"
   ],
   "metadata": {
    "collapsed": false,
    "pycharm": {
     "name": "#%%\n"
    }
   }
  },
  {
   "cell_type": "code",
   "execution_count": 31,
   "outputs": [],
   "source": [
    "common_words = new_df[~new_df.Word.isin(final_stopwords_list)]"
   ],
   "metadata": {
    "collapsed": false,
    "pycharm": {
     "name": "#%%\n"
    }
   }
  },
  {
   "cell_type": "code",
   "execution_count": 32,
   "outputs": [
    {
     "data": {
      "text/plain": "              Word  Frequency\n4         learning         23\n7             deep         21\n13           based         12\n15           using         12\n18        networks         10\n..             ...        ...\n607       messages          1\n608         safety          1\n609      broadcast          1\n610         method          1\n611  apprentissage          1\n\n[580 rows x 2 columns]",
      "text/html": "<div>\n<style scoped>\n    .dataframe tbody tr th:only-of-type {\n        vertical-align: middle;\n    }\n\n    .dataframe tbody tr th {\n        vertical-align: top;\n    }\n\n    .dataframe thead th {\n        text-align: right;\n    }\n</style>\n<table border=\"1\" class=\"dataframe\">\n  <thead>\n    <tr style=\"text-align: right;\">\n      <th></th>\n      <th>Word</th>\n      <th>Frequency</th>\n    </tr>\n  </thead>\n  <tbody>\n    <tr>\n      <th>4</th>\n      <td>learning</td>\n      <td>23</td>\n    </tr>\n    <tr>\n      <th>7</th>\n      <td>deep</td>\n      <td>21</td>\n    </tr>\n    <tr>\n      <th>13</th>\n      <td>based</td>\n      <td>12</td>\n    </tr>\n    <tr>\n      <th>15</th>\n      <td>using</td>\n      <td>12</td>\n    </tr>\n    <tr>\n      <th>18</th>\n      <td>networks</td>\n      <td>10</td>\n    </tr>\n    <tr>\n      <th>...</th>\n      <td>...</td>\n      <td>...</td>\n    </tr>\n    <tr>\n      <th>607</th>\n      <td>messages</td>\n      <td>1</td>\n    </tr>\n    <tr>\n      <th>608</th>\n      <td>safety</td>\n      <td>1</td>\n    </tr>\n    <tr>\n      <th>609</th>\n      <td>broadcast</td>\n      <td>1</td>\n    </tr>\n    <tr>\n      <th>610</th>\n      <td>method</td>\n      <td>1</td>\n    </tr>\n    <tr>\n      <th>611</th>\n      <td>apprentissage</td>\n      <td>1</td>\n    </tr>\n  </tbody>\n</table>\n<p>580 rows × 2 columns</p>\n</div>"
     },
     "execution_count": 32,
     "metadata": {},
     "output_type": "execute_result"
    }
   ],
   "source": [
    "common_words"
   ],
   "metadata": {
    "collapsed": false,
    "pycharm": {
     "name": "#%%\n"
    }
   }
  },
  {
   "cell_type": "code",
   "execution_count": null,
   "outputs": [],
   "source": [],
   "metadata": {
    "collapsed": false,
    "pycharm": {
     "name": "#%%\n"
    }
   }
  }
 ],
 "metadata": {
  "kernelspec": {
   "display_name": "Python 3",
   "language": "python",
   "name": "python3"
  },
  "language_info": {
   "codemirror_mode": {
    "name": "ipython",
    "version": 2
   },
   "file_extension": ".py",
   "mimetype": "text/x-python",
   "name": "python",
   "nbconvert_exporter": "python",
   "pygments_lexer": "ipython2",
   "version": "2.7.6"
  }
 },
 "nbformat": 4,
 "nbformat_minor": 0
}