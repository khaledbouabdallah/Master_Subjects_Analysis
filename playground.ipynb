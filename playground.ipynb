{
 "cells": [
  {
   "cell_type": "code",
   "execution_count": 171,
   "metadata": {
    "collapsed": true
   },
   "outputs": [],
   "source": [
    "from bs4 import BeautifulSoup\n",
    "import re\n",
    "import os\n",
    "import json\n",
    "import pandas as pd"
   ]
  },
  {
   "cell_type": "code",
   "execution_count": 164,
   "outputs": [],
   "source": [
    "DATA_PATH = \"raw_data/\""
   ],
   "metadata": {
    "collapsed": false,
    "pycharm": {
     "name": "#%%\n"
    }
   }
  },
  {
   "cell_type": "code",
   "execution_count": 165,
   "outputs": [
    {
     "name": "stdout",
     "output_type": "stream",
     "text": [
      "=======0======\n",
      "KHABABA  Abdallah:4\n",
      "ALIOUAT  Makhlouf:2\n",
      "KAMEL  Nadjet:2\n",
      "MOUSSAOUI  Abdelouahab:11\n",
      "REFOUFI  Allaoua:1\n",
      "=======1======\n",
      "REFOUFI  Allaoua:1\n",
      "SAIDI  Mohamed:2\n",
      "ALIOUAT née ZOUAOUI  Zibouda:2\n",
      "KHENTOUT  Chabane:1\n",
      "DOUIDI  Lamri:3\n",
      "BENAOUDA  Abdelhafid:3\n",
      "KHENTOUT née HARBOUCHE  Khadidja:2\n",
      "ZAIMEN née MEDIANI  Chahrazed:3\n",
      "MECHTA  Djamila:3\n",
      "=======2======\n",
      "MECHTA  Djamila:1\n",
      "LAOUADI  Mohamed Amin:2\n",
      "BEGHRICHE  Abdesselem:2\n",
      "AISSAOUA  Habib:2\n",
      "BENAIDJA  Amira:2\n",
      "MEKROUD  Noureddine:3\n",
      "KHARCHI  Samia:2\n",
      "HAMMOUCHE  Yassine:2\n",
      "FENANIR  Samir:3\n",
      "LAKHFIF  Abdelaziz:1\n",
      "=======3======\n",
      "LAKHFIF  Abdelaziz:2\n",
      "TOUMI  Lyazid:4\n",
      "LALAMA  Zahia:1\n",
      "DJAGHLOUL  Haroun:2\n",
      "BANABIREZ née ZERGUINE  Nadia:2\n",
      "DRIF  Ahlem:2\n",
      "AMRANI  Lakhdar:2\n",
      "BOUAMARI  Abdelkader:2\n",
      "ZAZOUA née DJEMAME  Safia:2\n",
      "DOUAR  Amel:1\n",
      "=======4======\n",
      "DOUAR  Amel:1\n",
      "GOUDJIL  Lakhdar:2\n",
      "KHALFALLAH née HADI  Fairouz:3\n",
      "GUELLATI  Nabil:1\n",
      "SEMCHEDINE  Moussa:2\n",
      "BRAHIM-SALEM  Fatiha:2\n",
      "KARA  Abdelaziz:2\n",
      "MANSOURI  Houceme:2\n",
      "NASRI  Khaled:2\n",
      "TEBBANI  Fatiha:2\n",
      "KANOUNI  Lakhdar:1\n",
      "=======5======\n",
      "KANOUNI  Lakhdar:1\n",
      "LAMRAOUI  Amar:2\n",
      "LOUAIL  Lemia:3\n",
      "BESSOU  Sadik:3\n",
      "KARA Mohamed  Chafia:2\n",
      "GHERBI  Chirihane:2\n",
      "KACHA  Lynda:2\n",
      "Harrag  Fouzi:3\n",
      "Cherbal  Sara:2\n",
      "=======6======\n",
      "BALBAL  Samir:3\n",
      "Frihia  hamza:1\n",
      "Ferradji  mohamed:2\n",
      "BERRIMI  Fella:2\n",
      "BOURAS  IKRAM:2\n",
      "Kout  Akram:2\n",
      "Kosrane  Mohamed:1\n",
      "Bouaita  Bilal:1\n",
      "SEGHIR  Fateh:1\n",
      "CHERGUI  Nabila:1\n",
      "Haddadi  Mohamed:3\n",
      "Benmessahel  Bilel:1\n",
      "=======7======\n",
      "Benmessahel  Bilel:1\n",
      "Annane  Boubakeur:1\n",
      "Zier  Abdelhak:1\n",
      "Harbi  Yasmine:1\n",
      "BERRHAIL  Fouaz:2\n",
      "AYACHE  Farid:1\n"
     ]
    }
   ],
   "source": [
    "articles = []\n",
    "for i,file_name in enumerate(os.listdir(DATA_PATH)):\n",
    "    print(f\"======={i}======\")\n",
    "    with open(DATA_PATH+file_name, \"r\", encoding='utf-8') as f:\n",
    "         html_doc= f.read()\n",
    "    soup = BeautifulSoup(html_doc, 'html.parser')\n",
    "    # Get table that contains the information we are interested in\n",
    "    table = soup.find(\"table\", {\"id\": \"filterrific_results\"})\n",
    "    # get tags that contain the information\n",
    "    rows = [content  for content in table.contents if content.name]\n",
    "    # split the tags per teacher\n",
    "    teachers = []\n",
    "    for i in range(0,len(rows),3):\n",
    "        teacher = [rows[i],rows[i+2]]\n",
    "        teachers.append(teacher)\n",
    "    for teacher in teachers:\n",
    "         # Pulling name and grade of each teacher:  'Enseignant NAME (GRADE)'\n",
    "         text = teacher[0].th.text\n",
    "         text = re.split(pattern='Enseignant', string=text)[1][2:]\n",
    "         text = re.split(pattern='\\(', string=text)\n",
    "         name = text[0].strip()\n",
    "         grade = text[1][:-1]\n",
    "         # splitting the data per article\n",
    "         articles_teacher = teacher[1].find_all('tr')\n",
    "         print(f'{name}:{len(articles_teacher)}')\n",
    "         # populating  articles information into a dictionary\n",
    "         for article in articles_teacher:\n",
    "              infos = article.find_all('td')\n",
    "              date, time, _ = re.split(pattern=' ', string=infos[9].text)\n",
    "              article_dict = {\n",
    "                  'Id': infos[0].text,\n",
    "                  'Title': infos[1].text.strip(),\n",
    "                  'Author': name,\n",
    "                  'Grade': grade,\n",
    "                 'Taken': bool(infos[2].text.strip()),\n",
    "                 'Priority 1': infos[3].text.strip(),\n",
    "                  'Priority 2': infos[4].text.strip(),\n",
    "                  'Priority 3': infos[5].text.strip(),\n",
    "                   'Priority 4': infos[6].text.strip(),\n",
    "                    'Priority 5': infos[7].text.strip(),\n",
    "                   'Date': date,\n",
    "                          'Time': time,\n",
    "              }\n",
    "              articles.append(article_dict)\n",
    "\n"
   ],
   "metadata": {
    "collapsed": false,
    "pycharm": {
     "name": "#%%\n"
    }
   }
  },
  {
   "cell_type": "code",
   "execution_count": 166,
   "outputs": [],
   "source": [
    "assert len(articles) == 147"
   ],
   "metadata": {
    "collapsed": false,
    "pycharm": {
     "name": "#%%\n"
    }
   }
  },
  {
   "cell_type": "code",
   "execution_count": 169,
   "outputs": [],
   "source": [
    "# Saving\n",
    "with open('dataset/result.json', 'w') as fp:\n",
    "    json.dump(articles, fp)"
   ],
   "metadata": {
    "collapsed": false,
    "pycharm": {
     "name": "#%%\n"
    }
   }
  },
  {
   "cell_type": "code",
   "execution_count": 172,
   "outputs": [],
   "source": [
    "\n",
    "df = pd.read_json (r'dataset/result.json')\n",
    "df.to_csv (r'dataset/sujets_master_2022.csv', index = None)"
   ],
   "metadata": {
    "collapsed": false,
    "pycharm": {
     "name": "#%%\n"
    }
   }
  },
  {
   "cell_type": "code",
   "execution_count": 173,
   "outputs": [],
   "source": [
    "df = pd.read_csv('dataset/sujets_master_2022.csv')"
   ],
   "metadata": {
    "collapsed": false,
    "pycharm": {
     "name": "#%%\n"
    }
   }
  },
  {
   "cell_type": "code",
   "execution_count": 174,
   "outputs": [
    {
     "data": {
      "text/plain": "       Id                                              Title  \\\n0    1499               IoT for remote monitoring in Algeria   \n1    1501  Development, Usability, and Efficiancy of a Se...   \n2    1502  Conception et Réalisation d’un système de réal...   \n3    1504  An IoT Based Mobile Augmented Reality Applicat...   \n4    1363  Architecture d’un Système Nano Macro de Réseau...   \n..    ...                                                ...   \n142  1376  Internet of Things Energy-Efficient routing pr...   \n143  1483  Authentification sécurisée dans l’internet des...   \n144  1413  Une approche de sélection des caractéristiques...   \n145  1414  Réalisation d’un système de détection des mala...   \n146  1411  Techniques de sélection de fonctionnalités par...   \n\n                Author                                              Grade  \\\n0    KHABABA  Abdallah                                         Professeur   \n1    KHABABA  Abdallah                                         Professeur   \n2    KHABABA  Abdallah                                         Professeur   \n3    KHABABA  Abdallah                                         Professeur   \n4    ALIOUAT  Makhlouf                                         Professeur   \n..                 ...                                                ...   \n142     Zier  Abdelhak                          Maitre assistant classe B   \n143     Harbi  Yasmine                          Maitre assistant classe B   \n144    BERRHAIL  Fouaz  Maitre de conferences classe B) --> Hors dépar...   \n145    BERRHAIL  Fouaz  Maitre de conferences classe B) --> Hors dépar...   \n146      AYACHE  Farid  Maitre de conferences classe B) --> Hors dépar...   \n\n     Taken Priority 1 Priority 2 Priority 3 Priority 4 Priority 5        Date  \\\n0     True        F3I       IDTW       IFIA         GL        RSD  2022-01-04   \n1     True         GL       IFIA        F3I       IDTW        RSD  2022-01-02   \n2     True        F3I        RSD       IDTW         GL       IFIA  2022-01-16   \n3     True        F3I       IDTW         GL       IFIA        RSD  2022-01-04   \n4     True        RSD       IDTW       IFIA         GL        F3I  2022-01-02   \n..     ...        ...        ...        ...        ...        ...         ...   \n142   True        RSD       IFIA       IDTW        F3I         GL  2022-01-03   \n143   True        RSD       IFIA       IDTW        F3I         GL  2022-01-03   \n144   True       IFIA       IDTW        F3I         GL        NaN  2022-01-25   \n145   True       IDTW       IFIA        F3I         GL        RSD  2022-01-04   \n146   True       IFIA        F3I         GL       IDTW        RSD  2022-01-04   \n\n         Time  \n0    09:49:23  \n1    19:21:14  \n2    12:13:05  \n3    09:50:25  \n4    19:41:53  \n..        ...  \n142  20:20:51  \n143  18:37:04  \n144  12:49:59  \n145  20:17:34  \n146  18:01:55  \n\n[147 rows x 12 columns]",
      "text/html": "<div>\n<style scoped>\n    .dataframe tbody tr th:only-of-type {\n        vertical-align: middle;\n    }\n\n    .dataframe tbody tr th {\n        vertical-align: top;\n    }\n\n    .dataframe thead th {\n        text-align: right;\n    }\n</style>\n<table border=\"1\" class=\"dataframe\">\n  <thead>\n    <tr style=\"text-align: right;\">\n      <th></th>\n      <th>Id</th>\n      <th>Title</th>\n      <th>Author</th>\n      <th>Grade</th>\n      <th>Taken</th>\n      <th>Priority 1</th>\n      <th>Priority 2</th>\n      <th>Priority 3</th>\n      <th>Priority 4</th>\n      <th>Priority 5</th>\n      <th>Date</th>\n      <th>Time</th>\n    </tr>\n  </thead>\n  <tbody>\n    <tr>\n      <th>0</th>\n      <td>1499</td>\n      <td>IoT for remote monitoring in Algeria</td>\n      <td>KHABABA  Abdallah</td>\n      <td>Professeur</td>\n      <td>True</td>\n      <td>F3I</td>\n      <td>IDTW</td>\n      <td>IFIA</td>\n      <td>GL</td>\n      <td>RSD</td>\n      <td>2022-01-04</td>\n      <td>09:49:23</td>\n    </tr>\n    <tr>\n      <th>1</th>\n      <td>1501</td>\n      <td>Development, Usability, and Efficiancy of a Se...</td>\n      <td>KHABABA  Abdallah</td>\n      <td>Professeur</td>\n      <td>True</td>\n      <td>GL</td>\n      <td>IFIA</td>\n      <td>F3I</td>\n      <td>IDTW</td>\n      <td>RSD</td>\n      <td>2022-01-02</td>\n      <td>19:21:14</td>\n    </tr>\n    <tr>\n      <th>2</th>\n      <td>1502</td>\n      <td>Conception et Réalisation d’un système de réal...</td>\n      <td>KHABABA  Abdallah</td>\n      <td>Professeur</td>\n      <td>True</td>\n      <td>F3I</td>\n      <td>RSD</td>\n      <td>IDTW</td>\n      <td>GL</td>\n      <td>IFIA</td>\n      <td>2022-01-16</td>\n      <td>12:13:05</td>\n    </tr>\n    <tr>\n      <th>3</th>\n      <td>1504</td>\n      <td>An IoT Based Mobile Augmented Reality Applicat...</td>\n      <td>KHABABA  Abdallah</td>\n      <td>Professeur</td>\n      <td>True</td>\n      <td>F3I</td>\n      <td>IDTW</td>\n      <td>GL</td>\n      <td>IFIA</td>\n      <td>RSD</td>\n      <td>2022-01-04</td>\n      <td>09:50:25</td>\n    </tr>\n    <tr>\n      <th>4</th>\n      <td>1363</td>\n      <td>Architecture d’un Système Nano Macro de Réseau...</td>\n      <td>ALIOUAT  Makhlouf</td>\n      <td>Professeur</td>\n      <td>True</td>\n      <td>RSD</td>\n      <td>IDTW</td>\n      <td>IFIA</td>\n      <td>GL</td>\n      <td>F3I</td>\n      <td>2022-01-02</td>\n      <td>19:41:53</td>\n    </tr>\n    <tr>\n      <th>...</th>\n      <td>...</td>\n      <td>...</td>\n      <td>...</td>\n      <td>...</td>\n      <td>...</td>\n      <td>...</td>\n      <td>...</td>\n      <td>...</td>\n      <td>...</td>\n      <td>...</td>\n      <td>...</td>\n      <td>...</td>\n    </tr>\n    <tr>\n      <th>142</th>\n      <td>1376</td>\n      <td>Internet of Things Energy-Efficient routing pr...</td>\n      <td>Zier  Abdelhak</td>\n      <td>Maitre assistant classe B</td>\n      <td>True</td>\n      <td>RSD</td>\n      <td>IFIA</td>\n      <td>IDTW</td>\n      <td>F3I</td>\n      <td>GL</td>\n      <td>2022-01-03</td>\n      <td>20:20:51</td>\n    </tr>\n    <tr>\n      <th>143</th>\n      <td>1483</td>\n      <td>Authentification sécurisée dans l’internet des...</td>\n      <td>Harbi  Yasmine</td>\n      <td>Maitre assistant classe B</td>\n      <td>True</td>\n      <td>RSD</td>\n      <td>IFIA</td>\n      <td>IDTW</td>\n      <td>F3I</td>\n      <td>GL</td>\n      <td>2022-01-03</td>\n      <td>18:37:04</td>\n    </tr>\n    <tr>\n      <th>144</th>\n      <td>1413</td>\n      <td>Une approche de sélection des caractéristiques...</td>\n      <td>BERRHAIL  Fouaz</td>\n      <td>Maitre de conferences classe B) --&gt; Hors dépar...</td>\n      <td>True</td>\n      <td>IFIA</td>\n      <td>IDTW</td>\n      <td>F3I</td>\n      <td>GL</td>\n      <td>NaN</td>\n      <td>2022-01-25</td>\n      <td>12:49:59</td>\n    </tr>\n    <tr>\n      <th>145</th>\n      <td>1414</td>\n      <td>Réalisation d’un système de détection des mala...</td>\n      <td>BERRHAIL  Fouaz</td>\n      <td>Maitre de conferences classe B) --&gt; Hors dépar...</td>\n      <td>True</td>\n      <td>IDTW</td>\n      <td>IFIA</td>\n      <td>F3I</td>\n      <td>GL</td>\n      <td>RSD</td>\n      <td>2022-01-04</td>\n      <td>20:17:34</td>\n    </tr>\n    <tr>\n      <th>146</th>\n      <td>1411</td>\n      <td>Techniques de sélection de fonctionnalités par...</td>\n      <td>AYACHE  Farid</td>\n      <td>Maitre de conferences classe B) --&gt; Hors dépar...</td>\n      <td>True</td>\n      <td>IFIA</td>\n      <td>F3I</td>\n      <td>GL</td>\n      <td>IDTW</td>\n      <td>RSD</td>\n      <td>2022-01-04</td>\n      <td>18:01:55</td>\n    </tr>\n  </tbody>\n</table>\n<p>147 rows × 12 columns</p>\n</div>"
     },
     "execution_count": 174,
     "metadata": {},
     "output_type": "execute_result"
    }
   ],
   "source": [
    "df"
   ],
   "metadata": {
    "collapsed": false,
    "pycharm": {
     "name": "#%%\n"
    }
   }
  },
  {
   "cell_type": "markdown",
   "source": [
    "## Question I want to know their answer:\n",
    "\n",
    "1. numer of subjects\n",
    "2. percentage of subjects affected/unaffected\n",
    "3. number of teachers who proposed a subject\n",
    "4. rank teacher per number of subjects\n",
    "5. rank subjects (close ones) per teacher\n",
    "6. rank speciality's per number of subjects/teachers\n",
    "7. sum of priority's for every speciality"
   ],
   "metadata": {
    "collapsed": false,
    "pycharm": {
     "name": "#%% md\n"
    }
   }
  },
  {
   "cell_type": "code",
   "execution_count": null,
   "outputs": [],
   "source": [],
   "metadata": {
    "collapsed": false,
    "pycharm": {
     "name": "#%%\n"
    }
   }
  }
 ],
 "metadata": {
  "kernelspec": {
   "display_name": "Python 3",
   "language": "python",
   "name": "python3"
  },
  "language_info": {
   "codemirror_mode": {
    "name": "ipython",
    "version": 2
   },
   "file_extension": ".py",
   "mimetype": "text/x-python",
   "name": "python",
   "nbconvert_exporter": "python",
   "pygments_lexer": "ipython2",
   "version": "2.7.6"
  }
 },
 "nbformat": 4,
 "nbformat_minor": 0
}